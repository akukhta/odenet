{
 "cells": [
  {
   "cell_type": "code",
   "execution_count": 2,
   "metadata": {},
   "outputs": [],
   "source": [
    "from odenet import *"
   ]
  },
  {
   "cell_type": "markdown",
   "metadata": {},
   "source": [
    "Um Änderungen an OdeNet zu machen, erstellt man zunächst eine lokale Kopie, bei der die Einträge jeweils auf einer Zeile stehen."
   ]
  },
  {
   "cell_type": "code",
   "execution_count": 3,
   "metadata": {},
   "outputs": [],
   "source": [
    "format_odenet_oneline()"
   ]
  },
  {
   "cell_type": "code",
   "execution_count": 7,
   "metadata": {
    "scrolled": true
   },
   "outputs": [],
   "source": [
    "OdeNet.word_info(\"Weltwirtschaftskrise\")"
   ]
  },
  {
   "cell_type": "markdown",
   "metadata": {},
   "source": [
    "Um etwas im englischen PWN nachzuschlagen, muss man den lokalen Pfad angeben."
   ]
  },
  {
   "cell_type": "code",
   "execution_count": 5,
   "metadata": {
    "tags": []
   },
   "outputs": [
    {
     "name": "stdout",
     "output_type": "stream",
     "text": [
      "['depression', 'slump', 'economic crisis']\n",
      "i113145\n",
      "a long-term economic state characterized by unemployment and low prices and low levels of trade and investment\n"
     ]
    }
   ],
   "source": [
    "OdeNet.check_ili_in_pwn(\"economic crisis\", r\"C:\\Users\\Melanie Siegel\\Documents\\05_Projekte\\OdeNet\\English_WN\\english-wordnet-2021.xml\")"
   ]
  },
  {
   "cell_type": "raw",
   "metadata": {},
   "source": []
  },
  {
   "cell_type": "code",
   "execution_count": 14,
   "metadata": {},
   "outputs": [
    {
     "name": "stdout",
     "output_type": "stream",
     "text": [
      "ENGLISH WORDS FOR THIS ILI: ['carpeting', 'rug', 'carpet']\n"
     ]
    },
    {
     "data": {
      "text/plain": [
       "['carpeting', 'rug', 'carpet']"
      ]
     },
     "execution_count": 14,
     "metadata": {},
     "output_type": "execute_result"
    }
   ],
   "source": [
    "OdeNet.en_words_in_ili(\"i58337\", r\"C:\\Users\\Melanie Siegel\\Documents\\05_Projekte\\OdeNet\\English_WN\\english-wordnet-2021.xml\")"
   ]
  },
  {
   "cell_type": "code",
   "execution_count": 6,
   "metadata": {},
   "outputs": [],
   "source": [
    "OdeNet.de_words_in_ili(\"i113145\")"
   ]
  },
  {
   "cell_type": "code",
   "execution_count": 4,
   "metadata": {},
   "outputs": [
    {
     "name": "stdout",
     "output_type": "stream",
     "text": [
      "<Synset id=\"odenet-10467-v\" ili=\"i33799\" partOfSpeech=\"v\" dc:subject=\"verb.social\"><Definition>Die Teilnahme beenden.</Definition><SynsetRelation target=\"odenet-430-v\" relType=\"antonym\"/></Synset>\n",
      "\n"
     ]
    }
   ],
   "source": [
    "# Definitionen einfügen'odenet-35395-a','Etwas, das nicht getan werden kann',r\"C:\\Users\\melaniesiegel\\Documents\\05_Projekte\\WordNet\\OdeNet\\deWNaccess\\odenet_oneline.xml\")\n",
    "add_definition_to_ss('odenet-10467-v','Die Teilnahme beenden.',\"odenet_oneline.xml\")"
   ]
  },
  {
   "cell_type": "code",
   "execution_count": 4,
   "metadata": {
    "scrolled": true
   },
   "outputs": [
    {
     "name": "stdout",
     "output_type": "stream",
     "text": [
      "<Synset id=\"odenet-25670-v\" ili=\"i24975\" partOfSpeech=\"v\"  dc:subject=\"verb.cognition\"><Definition>nachforschen</Definition></Synset>\n",
      "\n"
     ]
    }
   ],
   "source": [
    "# Englische Definitionen löschen\n",
    "delete_english_definition('odenet-25670-v',\"odenet_oneline.xml\")"
   ]
  },
  {
   "cell_type": "code",
   "execution_count": 7,
   "metadata": {
    "scrolled": true
   },
   "outputs": [
    {
     "name": "stdout",
     "output_type": "stream",
     "text": [
      "<Synset id=\"odenet-16591-n\" ili=\"i113145\" partOfSpeech=\"n\" dc:description=\"a long-term economic state characterized by unemployment and low prices and low levels of trade and investment\" dc:subject=\"noun.feeling\"><Definition>traurige Gefühle von Niedergeschlagenheit und Unzulänglichkeit</Definition><SynsetRelation target=\"odenet-843-n\" relType=\"hypernym\"/><SynsetRelation target=\"odenet-9562-n\" relType=\"hypernym\"/></Synset>\n",
      "\n"
     ]
    }
   ],
   "source": [
    "# Attribute (v.a. ili) im Synset verändern\n",
    "\n",
    "change_attribute_in_ss('odenet-16591-n','ili','i113145',\"odenet_oneline.xml\")\n"
   ]
  },
  {
   "cell_type": "code",
   "execution_count": null,
   "metadata": {},
   "outputs": [],
   "source": [
    "# POS ändern\n",
    "\n",
    "change_pos('odenet-14066-n','a',\"odenet_oneline.xml\")\n"
   ]
  },
  {
   "cell_type": "code",
   "execution_count": 6,
   "metadata": {},
   "outputs": [
    {
     "name": "stdout",
     "output_type": "stream",
     "text": [
      "<Synset id=\"odenet-28884-a\" ili=\"i4074\" partOfSpeech=\"a\" dc:subject=\"adj.all\"><Definition>menschliche Beziehung: extrem gestört</Definition><SynsetRelation target='odenet-11372-a' relType='antonym'/><Example>Ihre Ehe ist zerrüttet.</Example></Synset>\n",
      "\n",
      "<Synset id=\"odenet-11372-a\" ili=\"i5996\" partOfSpeech=\"a\" dc:description=\"used as intensifiers; `real' is sometimes used informally for `really'; `rattling' is informal\" dc:subject=\"adj.all\"><Definition>seine reguläre Funktion erfüllen oder erfüllen können</Definition><SynsetRelation target='odenet-2870-a' relType='antonym'/><SynsetRelation target='odenet-28884-a' relType='antonym'/></Synset>\n",
      "\n"
     ]
    }
   ],
   "source": [
    "# Antonym-Relation zum Synset hinzufügen\n",
    "\n",
    "add_antonym_rel_to_ss(\"odenet-28884-a\",\"odenet-11372-a\",\"odenet_oneline.xml\")"
   ]
  },
  {
   "cell_type": "code",
   "execution_count": 5,
   "metadata": {},
   "outputs": [
    {
     "name": "stdout",
     "output_type": "stream",
     "text": [
      "<Synset id=\"odenet-16591-n\" ili=\"i113145\" partOfSpeech=\"n\" dc:description=\"a long-term economic state characterized by unemployment and low prices and low levels of trade and investment\" dc:subject=\"noun.feeling\"><Definition>langfristiger wirtschaftlicher Zustand, gekennzeichnet durch Arbeitslosigkeit, niedrige Preise und ein niedriges Niveau von Handel und Investitionen</Definition><SynsetRelation target='odenet-843-n' relType='hypernym'/></Synset>\n",
      "\n"
     ]
    }
   ],
   "source": [
    "# Hyperonym-Relation zum Synset hinzufügen\n",
    "# add_hypernym_rel_to_ss(hyponym, hypernym, wordnet)\n",
    "\n",
    "add_hypernym_rel_to_ss(\"odenet-16591-n\",\"odenet-16591-n\",\"odenet_oneline.xml\")"
   ]
  },
  {
   "cell_type": "code",
   "execution_count": 23,
   "metadata": {},
   "outputs": [
    {
     "name": "stdout",
     "output_type": "stream",
     "text": [
      "<Synset id=\"odenet-12373-n\" ili=\"\" partOfSpeech=\"n\"><Definition>Zusammenschluss von Menschen zur Förderung der körperlichen Betätigung.</Definition><SynsetRelation target=\"odenet-7672-n\" relType=\"hypernym\"/><SynsetRelation target='odenet-6685-n' relType='hyponym'/><SynsetRelation target='odenet-11583-n' relType='mero_member'/><SynsetRelation target='odenet-213-n' relType='mero_member'/><Example>Sie trainiert im Sportverein.</Example></Synset>\n",
      "\n",
      "<Synset id=\"odenet-213-n\" ili=\"i88348\" partOfSpeech=\"n\" dc:subject=\"noun.person\"><Definition>Jemand, der Sport treibt.</Definition><SynsetRelation target=\"odenet-16870-n\" relType=\"hyponym\"/><SynsetRelation target=\"odenet-12606-n\" relType=\"hypernym\"/><SynsetRelation target=\"odenet-24468-n\" relType=\"hyponym\"/><SynsetRelation target='odenet-12373-n' relType='holo_member'/></Synset>\n",
      "\n"
     ]
    }
   ],
   "source": [
    "# Meronymie-Information zum Synset hinzufügen\n",
    "# Finger ist Meronym von Hand, Hand ist Holonym von Finger\n",
    "# add_mero_member_rel_to_ss(Holonym,Meronym,Wordnet)\n",
    "# z.B. add_mero_member_rel_to_ss(Hand-Synset, Finger-Synset,'odenet_oneline.xml')\n",
    "\n",
    "add_mero_member_rel_to_ss('odenet-12373-n','odenet-213-n','odenet_oneline.xml')"
   ]
  },
  {
   "cell_type": "code",
   "execution_count": 5,
   "metadata": {},
   "outputs": [
    {
     "name": "stdout",
     "output_type": "stream",
     "text": [
      "<Synset id=\"odenet-2675-n\" ili=\"i89072\" partOfSpeech=\"n\" confidenceScore=\"1.0\" dc:subject=\"noun.person\"><Definition>jmd., der mit anderen die gleiche Arbeit macht oder im gleichen Betrieb arbeitet</Definition><SynsetRelation target='odenet-1692-n' relType='hypernym'/><SynsetRelation target='odenet-362449-n' relType='has_feminine'/><Example>Ihr Kollege sitzt in Büro nebenan.</Example></Synset>\n",
      "\n",
      "<Synset id=\"odenet-362449-n\" ili=\"\" partOfSpeech=\"n\"><SynsetRelation target='odenet-2675-n' relType='has_masculine'/></Synset>\n",
      "\n"
     ]
    }
   ],
   "source": [
    "# Feminine Formen hinzufügen\n",
    "# Ärztin ist die feminine Form von Arzt\n",
    "# z.B. add_feminine_rel_to_ss(Arzt-Synset,Ärztin-Synset,'odenet_oneline.xml')\n",
    "\n",
    "add_feminine_rel_to_ss('odenet-2675-n','odenet-362449-n','odenet_oneline.xml')\n"
   ]
  },
  {
   "cell_type": "code",
   "execution_count": 6,
   "metadata": {},
   "outputs": [
    {
     "name": "stdout",
     "output_type": "stream",
     "text": [
      "<Synset id=\"odenet-16591-n\" ili=\"i113145\" partOfSpeech=\"n\" dc:description=\"a long-term economic state characterized by unemployment and low prices and low levels of trade and investment\" dc:subject=\"noun.feeling\"><Definition>langfristiger wirtschaftlicher Zustand, gekennzeichnet durch Arbeitslosigkeit, niedrige Preise und ein niedriges Niveau von Handel und Investitionen</Definition><SynsetRelation target='odenet-843-n' relType='hypernym'/><Example>Die Wirtschaftskrise hat das Land hart getroffen.</Example></Synset>\n",
      "\n"
     ]
    }
   ],
   "source": [
    "# Beispiel einfügen\n",
    "\n",
    "add_example_to_ss('odenet-16591-n','Die Wirtschaftskrise hat das Land hart getroffen.',\"odenet_oneline.xml\")"
   ]
  },
  {
   "cell_type": "code",
   "execution_count": 8,
   "metadata": {},
   "outputs": [
    {
     "name": "stdout",
     "output_type": "stream",
     "text": [
      "<LexicalEntry id=\"w61360\" confidenceScore=\"1.0\"><Lemma writtenForm=\"Wirtschaftskrise\" partOfSpeech=\"n\"/><Sense id=\"w61360_16591-n\" synset=\"odenet-16591-n\"/></LexicalEntry>\n",
      "\n"
     ]
    }
   ],
   "source": [
    "# Attribute zum LexEntry hinzufügen, z.B. confidenceScore\n",
    "change_attribute_in_lexentry(\"Wirtschaftskrise\",\"confidenceScore\",\"1.0\",\"odenet_oneline.xml\")"
   ]
  },
  {
   "cell_type": "code",
   "execution_count": null,
   "metadata": {},
   "outputs": [],
   "source": [
    "# Attribute zum Sense hinzufügen, z.B. note=\"PHON:buːt\"\n",
    "add_attribute_to_sense(\"w4007_15099-n\",\"odenet-15099-n\",\"note\",\"PHON:teˈnoːɐ̯\",\"odenet_oneline.xml\")\n",
    "\n"
   ]
  },
  {
   "cell_type": "code",
   "execution_count": 15,
   "metadata": {},
   "outputs": [
    {
     "name": "stdout",
     "output_type": "stream",
     "text": [
      "Ich habe diese Senses dafür: \n",
      "SYNSET: odenet-2992-v\n",
      "('i30309', [], 'eine Handlung durchführen', [('hyponym', 'odenet-15134-v'), ('hyponym', 'odenet-17003-v'), ('hyponym', 'odenet-25349-v'), ('hyponym', 'odenet-464-v'), ('hyponym', 'odenet-4800-v'), ('hyponym', 'odenet-5125-v'), ('hyponym', 'odenet-8172-v'), ('hyponym', 'odenet-1001-v'), ('hyponym', 'odenet-10028-v'), ('hyponym', 'odenet-9810-v'), ('hyponym', 'odenet-10156-v'), ('hyponym', 'odenet-10538-v'), ('hyponym', 'odenet-15911-v'), ('hyponym', 'odenet-10080-v'), ('hyponym', 'odenet-1012-v'), ('hyponym', 'odenet-10226-v')], ['wirken', 'handeln', 'tun', 'agieren', 'machen', 'walten'], ['odenet-2992-v'], [])\n",
      "SYNSET: odenet-6447-v\n",
      "('i29197', [], 'etwas an einen bestimmten Platz tun', [('hyponym', 'odenet-10015-v')], ['legen', 'stellen', 'tun', 'einstellen', 'setzen'], ['odenet-6447-v'], 'Sie legte die Schlüssel in die Schublade.')\n",
      "SYNSET: odenet-11902-v\n",
      "('i30520', [], 'durchführen, produzieren oder ausführen', [('hypernym', 'odenet-35859-v')], ['durchführen', 'realisieren', 'anstellen', 'tun', 'machen', 'veranstalten', 'tätigen', 'verüben'], ['odenet-11902-v'], [])\n"
     ]
    },
    {
     "name": "stdin",
     "output_type": "stream",
     "text": [
      "Welcher Sense?  odenet-2992-v\n"
     ]
    },
    {
     "name": "stdout",
     "output_type": "stream",
     "text": [
      "[]\n",
      "[('odenet-15134-v', ['auf die Bremse treten', 'abbremsen', 'bremsen', 'in die Eisen steigen']), ('odenet-17003-v', ['einziehen', '(Wohnung) beziehen']), ('odenet-25349-v', ['sich verschwören', 'konspirieren']), ('odenet-464-v', ['sicherstellen', 'etwas aus dem Verkehr ziehen', 'requirieren', 'beschlagnahmen', 'einziehen', 'sichern', 'konfiszieren']), ('odenet-4800-v', ['einziehen', 'einberufen']), ('odenet-5125-v', ['deuten', 'interpretieren', 'auslegen', 'deuteln']), ('odenet-8172-v', ['üben', 'proben', 'durchspielen']), ('odenet-1001-v', ['berühren', 'anrühren', 'anpacken', 'anfassen']), ('odenet-10028-v', ['nachstellen', 'nachvollziehen', 'reproduzieren', 'wiederholen']), ('odenet-9810-v', ['abbilden', 'modellieren']), ('odenet-10156-v', ['abbilden', 'projizieren']), ('odenet-10538-v', ['zeigen', 'repräsentieren', 'wiedergeben', 'bildlich darstellen', 'darstellen', 'abbilden', 'zur Darstellung bringen']), ('odenet-15911-v', ['nachstellen', 'abbilden', 'so tun als ob', 'modellieren', '(modellhaft) nachbilden', 'emulieren']), ('odenet-10080-v', ['schlagen', 'roden', 'umhauen', 'absägen', 'fällen', 'abholzen', 'umsägen']), ('odenet-1012-v', ['übertragen', 'navigieren', 'routen', 'übermitteln', 'schicken', 'senden', 'leiten']), ('odenet-10226-v', ['spucken', 'speien', 'rotzen'])]\n",
      "[('tun', {}), ('auf die Bremse treten', {}), ('einziehen', {}), ('sich verschwören', {}), ('sicherstellen', {}), ('deuten', {}), ('Verrat begehen', {}), ('üben', {}), ('berühren', {}), ('nachstellen', {}), ('abbilden', {}), ('zeigen', {}), ('schlagen', {}), ('übertragen', {}), ('spucken', {})]\n"
     ]
    },
    {
     "data": {
      "image/png": "[encoded data removed]",
      "text/plain": [
       "<Figure size 432x288 with 1 Axes>"
      ]
     },
     "metadata": {},
     "output_type": "display_data"
    }
   ],
   "source": [
    "# Hyponyme und Hyperonyme visualisieren\n",
    "OdeNet.visualize(\"tun\")"
   ]
  },
  {
   "cell_type": "code",
   "execution_count": 32,
   "metadata": {},
   "outputs": [],
   "source": [
    "# Für die gesamte Datei Rückrelationen Hyperonym - Hyponym einfügen\n",
    "# Achtung: Das dauert einige Zeit!\n",
    "\n",
    "#add_hypo_to_hyper(\"odenet_oneline.xml\")\n"
   ]
  },
  {
   "cell_type": "code",
   "execution_count": 3,
   "metadata": {},
   "outputs": [],
   "source": [
    "# In schönerem Format speichern, sodass das eingecheckt werden kann\n",
    "\n",
    "prettyprint_odenet()"
   ]
  },
  {
   "cell_type": "code",
   "execution_count": null,
   "metadata": {},
   "outputs": [],
   "source": []
  }
 ],
 "metadata": {
  "kernelspec": {
   "display_name": "Python 3 (ipykernel)",
   "language": "python",
   "name": "python3"
  },
  "language_info": {
   "codemirror_mode": {
    "name": "ipython",
    "version": 3
   },
   "file_extension": ".py",
   "mimetype": "text/x-python",
   "name": "python",
   "nbconvert_exporter": "python",
   "pygments_lexer": "ipython3",
   "version": "3.9.6"
  }
 },
 "nbformat": 4,
 "nbformat_minor": 4
}
